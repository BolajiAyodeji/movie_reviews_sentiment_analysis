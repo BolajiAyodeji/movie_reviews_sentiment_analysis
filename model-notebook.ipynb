{
 "cells": [
  {
   "cell_type": "markdown",
   "id": "326c82c4",
   "metadata": {
    "papermill": {
     "duration": 0.017831,
     "end_time": "2021-09-21T02:32:02.269965",
     "exception": false,
     "start_time": "2021-09-21T02:32:02.252134",
     "status": "completed"
    },
    "tags": []
   },
   "source": [
    "## Import and prepare the dataset"
   ]
  },
  {
   "cell_type": "code",
   "execution_count": 1,
   "id": "3b911b38",
   "metadata": {
    "execution": {
     "iopub.execute_input": "2021-09-21T02:32:02.308628Z",
     "iopub.status.busy": "2021-09-21T02:32:02.307471Z",
     "iopub.status.idle": "2021-09-21T02:32:04.283213Z",
     "shell.execute_reply": "2021-09-21T02:32:04.282578Z",
     "shell.execute_reply.started": "2021-09-20T08:32:02.509460Z"
    },
    "papermill": {
     "duration": 1.996,
     "end_time": "2021-09-21T02:32:04.283375",
     "exception": false,
     "start_time": "2021-09-21T02:32:02.287375",
     "status": "completed"
    },
    "tags": []
   },
   "outputs": [
    {
     "data": {
      "text/html": [
       "<div>\n",
       "<style scoped>\n",
       "    .dataframe tbody tr th:only-of-type {\n",
       "        vertical-align: middle;\n",
       "    }\n",
       "\n",
       "    .dataframe tbody tr th {\n",
       "        vertical-align: top;\n",
       "    }\n",
       "\n",
       "    .dataframe thead th {\n",
       "        text-align: right;\n",
       "    }\n",
       "</style>\n",
       "<table border=\"1\" class=\"dataframe\">\n",
       "  <thead>\n",
       "    <tr style=\"text-align: right;\">\n",
       "      <th></th>\n",
       "      <th>review</th>\n",
       "      <th>sentiment</th>\n",
       "    </tr>\n",
       "  </thead>\n",
       "  <tbody>\n",
       "    <tr>\n",
       "      <th>0</th>\n",
       "      <td>One of the other reviewers has mentioned that ...</td>\n",
       "      <td>positive</td>\n",
       "    </tr>\n",
       "    <tr>\n",
       "      <th>1</th>\n",
       "      <td>A wonderful little production. &lt;br /&gt;&lt;br /&gt;The...</td>\n",
       "      <td>positive</td>\n",
       "    </tr>\n",
       "    <tr>\n",
       "      <th>2</th>\n",
       "      <td>I thought this was a wonderful way to spend ti...</td>\n",
       "      <td>positive</td>\n",
       "    </tr>\n",
       "    <tr>\n",
       "      <th>3</th>\n",
       "      <td>Basically there's a family where a little boy ...</td>\n",
       "      <td>negative</td>\n",
       "    </tr>\n",
       "    <tr>\n",
       "      <th>4</th>\n",
       "      <td>Petter Mattei's \"Love in the Time of Money\" is...</td>\n",
       "      <td>positive</td>\n",
       "    </tr>\n",
       "    <tr>\n",
       "      <th>...</th>\n",
       "      <td>...</td>\n",
       "      <td>...</td>\n",
       "    </tr>\n",
       "    <tr>\n",
       "      <th>49995</th>\n",
       "      <td>I thought this movie did a down right good job...</td>\n",
       "      <td>positive</td>\n",
       "    </tr>\n",
       "    <tr>\n",
       "      <th>49996</th>\n",
       "      <td>Bad plot, bad dialogue, bad acting, idiotic di...</td>\n",
       "      <td>negative</td>\n",
       "    </tr>\n",
       "    <tr>\n",
       "      <th>49997</th>\n",
       "      <td>I am a Catholic taught in parochial elementary...</td>\n",
       "      <td>negative</td>\n",
       "    </tr>\n",
       "    <tr>\n",
       "      <th>49998</th>\n",
       "      <td>I'm going to have to disagree with the previou...</td>\n",
       "      <td>negative</td>\n",
       "    </tr>\n",
       "    <tr>\n",
       "      <th>49999</th>\n",
       "      <td>No one expects the Star Trek movies to be high...</td>\n",
       "      <td>negative</td>\n",
       "    </tr>\n",
       "  </tbody>\n",
       "</table>\n",
       "<p>50000 rows × 2 columns</p>\n",
       "</div>"
      ],
      "text/plain": [
       "                                                  review sentiment\n",
       "0      One of the other reviewers has mentioned that ...  positive\n",
       "1      A wonderful little production. <br /><br />The...  positive\n",
       "2      I thought this was a wonderful way to spend ti...  positive\n",
       "3      Basically there's a family where a little boy ...  negative\n",
       "4      Petter Mattei's \"Love in the Time of Money\" is...  positive\n",
       "...                                                  ...       ...\n",
       "49995  I thought this movie did a down right good job...  positive\n",
       "49996  Bad plot, bad dialogue, bad acting, idiotic di...  negative\n",
       "49997  I am a Catholic taught in parochial elementary...  negative\n",
       "49998  I'm going to have to disagree with the previou...  negative\n",
       "49999  No one expects the Star Trek movies to be high...  negative\n",
       "\n",
       "[50000 rows x 2 columns]"
      ]
     },
     "execution_count": 1,
     "metadata": {},
     "output_type": "execute_result"
    }
   ],
   "source": [
    "import pandas as pd\n",
    "\n",
    "df_review = pd.read_csv('../input/imdb-dataset-of-50k-movie-reviews/IMDB Dataset.csv')\n",
    "\n",
    "df_review"
   ]
  },
  {
   "cell_type": "code",
   "execution_count": 2,
   "id": "9c93d74f",
   "metadata": {
    "execution": {
     "iopub.execute_input": "2021-09-21T02:32:04.338637Z",
     "iopub.status.busy": "2021-09-21T02:32:04.337886Z",
     "iopub.status.idle": "2021-09-21T02:32:05.561396Z",
     "shell.execute_reply": "2021-09-21T02:32:05.561913Z",
     "shell.execute_reply.started": "2021-09-20T08:32:03.910377Z"
    },
    "papermill": {
     "duration": 1.260843,
     "end_time": "2021-09-21T02:32:05.562122",
     "exception": false,
     "start_time": "2021-09-21T02:32:04.301279",
     "status": "completed"
    },
    "tags": []
   },
   "outputs": [
    {
     "data": {
      "image/png": "[encoded data removed]",
      "text/plain": [
       "<Figure size 720x576 with 1 Axes>"
      ]
     },
     "metadata": {},
     "output_type": "display_data"
    }
   ],
   "source": [
    "df_positive = df_review[df_review['sentiment']=='positive'][:40000]\n",
    "df_negative = df_review[df_review['sentiment']=='negative'][:10000]\n",
    "\n",
    "df_review_imb = pd.concat([df_positive, df_negative])\n",
    "\n",
    "import matplotlib.pyplot as plt\n",
    "import seaborn as sns\n",
    "\n",
    "sns.set_style('darkgrid')\n",
    "plt.rc('axes', titlesize=20)\n",
    "plt.rc('axes', labelsize=16)\n",
    "plt.rc('xtick', labelsize=14)\n",
    "plt.rc('ytick', labelsize=14)\n",
    "plt.rc('legend', fontsize=14)\n",
    "plt.rc('font', size=14)\n",
    "\n",
    "colors = sns.color_palette('deep')\n",
    "\n",
    "plt.figure(figsize=(10,8), tight_layout=True)\n",
    "plt.bar(x=['Positive', 'Negative'], height=df_review_imb.value_counts(['sentiment']), color=colors[:2])\n",
    "plt.title('Sentiment')\n",
    "plt.savefig('sentiment.png')\n",
    "\n",
    "plt.show()"
   ]
  },
  {
   "cell_type": "code",
   "execution_count": 3,
   "id": "18cbbf5a",
   "metadata": {
    "execution": {
     "iopub.execute_input": "2021-09-21T02:32:05.606397Z",
     "iopub.status.busy": "2021-09-21T02:32:05.605704Z",
     "iopub.status.idle": "2021-09-21T02:32:06.320853Z",
     "shell.execute_reply": "2021-09-21T02:32:06.321378Z",
     "shell.execute_reply.started": "2021-09-20T08:32:04.916015Z"
    },
    "papermill": {
     "duration": 0.740002,
     "end_time": "2021-09-21T02:32:06.321551",
     "exception": false,
     "start_time": "2021-09-21T02:32:05.581549",
     "status": "completed"
    },
    "tags": []
   },
   "outputs": [
    {
     "name": "stdout",
     "output_type": "stream",
     "text": [
      "sentiment\n",
      "positive    25000\n",
      "negative    10000\n",
      "dtype: int64\n",
      "---------------\n",
      "sentiment\n",
      "negative    10000\n",
      "positive    10000\n",
      "dtype: int64\n"
     ]
    }
   ],
   "source": [
    "#Balancing the data set\n",
    "\n",
    "from imblearn.under_sampling import RandomUnderSampler\n",
    "\n",
    "rus = RandomUnderSampler(random_state=0)\n",
    "df_review_bal, df_review_bal['sentiment'] = rus.fit_resample(df_review_imb[['review']], df_review_imb['sentiment'])\n",
    "\n",
    "df_review_bal\n",
    "\n",
    "print(df_review_imb.value_counts('sentiment'))\n",
    "print('---------------')\n",
    "print(df_review_bal.value_counts('sentiment'))"
   ]
  },
  {
   "cell_type": "code",
   "execution_count": 4,
   "id": "4c4fc99f",
   "metadata": {
    "execution": {
     "iopub.execute_input": "2021-09-21T02:32:06.365747Z",
     "iopub.status.busy": "2021-09-21T02:32:06.365098Z",
     "iopub.status.idle": "2021-09-21T02:32:06.376695Z",
     "shell.execute_reply": "2021-09-21T02:32:06.375895Z",
     "shell.execute_reply.started": "2021-09-20T08:32:05.425722Z"
    },
    "papermill": {
     "duration": 0.036444,
     "end_time": "2021-09-21T02:32:06.376882",
     "exception": false,
     "start_time": "2021-09-21T02:32:06.340438",
     "status": "completed"
    },
    "tags": []
   },
   "outputs": [
    {
     "name": "stdout",
     "output_type": "stream",
     "text": [
      "10650    positive\n",
      "2041     negative\n",
      "8668     negative\n",
      "1114     negative\n",
      "13902    positive\n",
      "           ...   \n",
      "5388     negative\n",
      "749      negative\n",
      "611      negative\n",
      "13637    positive\n",
      "11617    positive\n",
      "Name: sentiment, Length: 6600, dtype: object\n"
     ]
    }
   ],
   "source": [
    "#Splitting the dataset into train and test data sets\n",
    "\n",
    "from sklearn.model_selection import train_test_split\n",
    "\n",
    "train, test = train_test_split(df_review_bal, test_size=0.33, random_state=42)\n",
    "\n",
    "train_x, train_y = train['review'], train['sentiment']\n",
    "test_x, test_y = test['review'], test['sentiment']\n",
    "\n",
    "print(test_y)"
   ]
  },
  {
   "cell_type": "markdown",
   "id": "e301c553",
   "metadata": {
    "papermill": {
     "duration": 0.01892,
     "end_time": "2021-09-21T02:32:06.415915",
     "exception": false,
     "start_time": "2021-09-21T02:32:06.396995",
     "status": "completed"
    },
    "tags": []
   },
   "source": [
    "## Text representation to numerical vectors using bag of words"
   ]
  },
  {
   "cell_type": "code",
   "execution_count": 5,
   "id": "1efd6967",
   "metadata": {
    "execution": {
     "iopub.execute_input": "2021-09-21T02:32:06.460178Z",
     "iopub.status.busy": "2021-09-21T02:32:06.459438Z",
     "iopub.status.idle": "2021-09-21T02:32:13.597702Z",
     "shell.execute_reply": "2021-09-21T02:32:13.597049Z",
     "shell.execute_reply.started": "2021-09-20T08:32:05.440693Z"
    },
    "papermill": {
     "duration": 7.162735,
     "end_time": "2021-09-21T02:32:13.597838",
     "exception": false,
     "start_time": "2021-09-21T02:32:06.435103",
     "status": "completed"
    },
    "tags": []
   },
   "outputs": [
    {
     "data": {
      "text/html": [
       "<div>\n",
       "<style scoped>\n",
       "    .dataframe tbody tr th:only-of-type {\n",
       "        vertical-align: middle;\n",
       "    }\n",
       "\n",
       "    .dataframe tbody tr th {\n",
       "        vertical-align: top;\n",
       "    }\n",
       "\n",
       "    .dataframe thead th {\n",
       "        text-align: right;\n",
       "    }\n",
       "</style>\n",
       "<table border=\"1\" class=\"dataframe\">\n",
       "  <thead>\n",
       "    <tr style=\"text-align: right;\">\n",
       "      <th></th>\n",
       "      <th>00</th>\n",
       "      <th>000</th>\n",
       "      <th>00001</th>\n",
       "      <th>001</th>\n",
       "      <th>006</th>\n",
       "      <th>007</th>\n",
       "      <th>00s</th>\n",
       "      <th>01</th>\n",
       "      <th>0148</th>\n",
       "      <th>02</th>\n",
       "      <th>...</th>\n",
       "      <th>époque</th>\n",
       "      <th>être</th>\n",
       "      <th>êxtase</th>\n",
       "      <th>ísnt</th>\n",
       "      <th>île</th>\n",
       "      <th>über</th>\n",
       "      <th>übermensch</th>\n",
       "      <th>überwoman</th>\n",
       "      <th>þór</th>\n",
       "      <th>żmijewski</th>\n",
       "    </tr>\n",
       "  </thead>\n",
       "  <tbody>\n",
       "    <tr>\n",
       "      <th>7070</th>\n",
       "      <td>0.0</td>\n",
       "      <td>0.0</td>\n",
       "      <td>0.0</td>\n",
       "      <td>0.0</td>\n",
       "      <td>0.0</td>\n",
       "      <td>0.0</td>\n",
       "      <td>0.0</td>\n",
       "      <td>0.0</td>\n",
       "      <td>0.0</td>\n",
       "      <td>0.0</td>\n",
       "      <td>...</td>\n",
       "      <td>0.0</td>\n",
       "      <td>0.0</td>\n",
       "      <td>0.0</td>\n",
       "      <td>0.0</td>\n",
       "      <td>0.0</td>\n",
       "      <td>0.0</td>\n",
       "      <td>0.0</td>\n",
       "      <td>0.0</td>\n",
       "      <td>0.0</td>\n",
       "      <td>0.0</td>\n",
       "    </tr>\n",
       "    <tr>\n",
       "      <th>13010</th>\n",
       "      <td>0.0</td>\n",
       "      <td>0.0</td>\n",
       "      <td>0.0</td>\n",
       "      <td>0.0</td>\n",
       "      <td>0.0</td>\n",
       "      <td>0.0</td>\n",
       "      <td>0.0</td>\n",
       "      <td>0.0</td>\n",
       "      <td>0.0</td>\n",
       "      <td>0.0</td>\n",
       "      <td>...</td>\n",
       "      <td>0.0</td>\n",
       "      <td>0.0</td>\n",
       "      <td>0.0</td>\n",
       "      <td>0.0</td>\n",
       "      <td>0.0</td>\n",
       "      <td>0.0</td>\n",
       "      <td>0.0</td>\n",
       "      <td>0.0</td>\n",
       "      <td>0.0</td>\n",
       "      <td>0.0</td>\n",
       "    </tr>\n",
       "    <tr>\n",
       "      <th>6688</th>\n",
       "      <td>0.0</td>\n",
       "      <td>0.0</td>\n",
       "      <td>0.0</td>\n",
       "      <td>0.0</td>\n",
       "      <td>0.0</td>\n",
       "      <td>0.0</td>\n",
       "      <td>0.0</td>\n",
       "      <td>0.0</td>\n",
       "      <td>0.0</td>\n",
       "      <td>0.0</td>\n",
       "      <td>...</td>\n",
       "      <td>0.0</td>\n",
       "      <td>0.0</td>\n",
       "      <td>0.0</td>\n",
       "      <td>0.0</td>\n",
       "      <td>0.0</td>\n",
       "      <td>0.0</td>\n",
       "      <td>0.0</td>\n",
       "      <td>0.0</td>\n",
       "      <td>0.0</td>\n",
       "      <td>0.0</td>\n",
       "    </tr>\n",
       "    <tr>\n",
       "      <th>9976</th>\n",
       "      <td>0.0</td>\n",
       "      <td>0.0</td>\n",
       "      <td>0.0</td>\n",
       "      <td>0.0</td>\n",
       "      <td>0.0</td>\n",
       "      <td>0.0</td>\n",
       "      <td>0.0</td>\n",
       "      <td>0.0</td>\n",
       "      <td>0.0</td>\n",
       "      <td>0.0</td>\n",
       "      <td>...</td>\n",
       "      <td>0.0</td>\n",
       "      <td>0.0</td>\n",
       "      <td>0.0</td>\n",
       "      <td>0.0</td>\n",
       "      <td>0.0</td>\n",
       "      <td>0.0</td>\n",
       "      <td>0.0</td>\n",
       "      <td>0.0</td>\n",
       "      <td>0.0</td>\n",
       "      <td>0.0</td>\n",
       "    </tr>\n",
       "    <tr>\n",
       "      <th>5175</th>\n",
       "      <td>0.0</td>\n",
       "      <td>0.0</td>\n",
       "      <td>0.0</td>\n",
       "      <td>0.0</td>\n",
       "      <td>0.0</td>\n",
       "      <td>0.0</td>\n",
       "      <td>0.0</td>\n",
       "      <td>0.0</td>\n",
       "      <td>0.0</td>\n",
       "      <td>0.0</td>\n",
       "      <td>...</td>\n",
       "      <td>0.0</td>\n",
       "      <td>0.0</td>\n",
       "      <td>0.0</td>\n",
       "      <td>0.0</td>\n",
       "      <td>0.0</td>\n",
       "      <td>0.0</td>\n",
       "      <td>0.0</td>\n",
       "      <td>0.0</td>\n",
       "      <td>0.0</td>\n",
       "      <td>0.0</td>\n",
       "    </tr>\n",
       "    <tr>\n",
       "      <th>...</th>\n",
       "      <td>...</td>\n",
       "      <td>...</td>\n",
       "      <td>...</td>\n",
       "      <td>...</td>\n",
       "      <td>...</td>\n",
       "      <td>...</td>\n",
       "      <td>...</td>\n",
       "      <td>...</td>\n",
       "      <td>...</td>\n",
       "      <td>...</td>\n",
       "      <td>...</td>\n",
       "      <td>...</td>\n",
       "      <td>...</td>\n",
       "      <td>...</td>\n",
       "      <td>...</td>\n",
       "      <td>...</td>\n",
       "      <td>...</td>\n",
       "      <td>...</td>\n",
       "      <td>...</td>\n",
       "      <td>...</td>\n",
       "      <td>...</td>\n",
       "    </tr>\n",
       "    <tr>\n",
       "      <th>11284</th>\n",
       "      <td>0.0</td>\n",
       "      <td>0.0</td>\n",
       "      <td>0.0</td>\n",
       "      <td>0.0</td>\n",
       "      <td>0.0</td>\n",
       "      <td>0.0</td>\n",
       "      <td>0.0</td>\n",
       "      <td>0.0</td>\n",
       "      <td>0.0</td>\n",
       "      <td>0.0</td>\n",
       "      <td>...</td>\n",
       "      <td>0.0</td>\n",
       "      <td>0.0</td>\n",
       "      <td>0.0</td>\n",
       "      <td>0.0</td>\n",
       "      <td>0.0</td>\n",
       "      <td>0.0</td>\n",
       "      <td>0.0</td>\n",
       "      <td>0.0</td>\n",
       "      <td>0.0</td>\n",
       "      <td>0.0</td>\n",
       "    </tr>\n",
       "    <tr>\n",
       "      <th>11964</th>\n",
       "      <td>0.0</td>\n",
       "      <td>0.0</td>\n",
       "      <td>0.0</td>\n",
       "      <td>0.0</td>\n",
       "      <td>0.0</td>\n",
       "      <td>0.0</td>\n",
       "      <td>0.0</td>\n",
       "      <td>0.0</td>\n",
       "      <td>0.0</td>\n",
       "      <td>0.0</td>\n",
       "      <td>...</td>\n",
       "      <td>0.0</td>\n",
       "      <td>0.0</td>\n",
       "      <td>0.0</td>\n",
       "      <td>0.0</td>\n",
       "      <td>0.0</td>\n",
       "      <td>0.0</td>\n",
       "      <td>0.0</td>\n",
       "      <td>0.0</td>\n",
       "      <td>0.0</td>\n",
       "      <td>0.0</td>\n",
       "    </tr>\n",
       "    <tr>\n",
       "      <th>5390</th>\n",
       "      <td>0.0</td>\n",
       "      <td>0.0</td>\n",
       "      <td>0.0</td>\n",
       "      <td>0.0</td>\n",
       "      <td>0.0</td>\n",
       "      <td>0.0</td>\n",
       "      <td>0.0</td>\n",
       "      <td>0.0</td>\n",
       "      <td>0.0</td>\n",
       "      <td>0.0</td>\n",
       "      <td>...</td>\n",
       "      <td>0.0</td>\n",
       "      <td>0.0</td>\n",
       "      <td>0.0</td>\n",
       "      <td>0.0</td>\n",
       "      <td>0.0</td>\n",
       "      <td>0.0</td>\n",
       "      <td>0.0</td>\n",
       "      <td>0.0</td>\n",
       "      <td>0.0</td>\n",
       "      <td>0.0</td>\n",
       "    </tr>\n",
       "    <tr>\n",
       "      <th>860</th>\n",
       "      <td>0.0</td>\n",
       "      <td>0.0</td>\n",
       "      <td>0.0</td>\n",
       "      <td>0.0</td>\n",
       "      <td>0.0</td>\n",
       "      <td>0.0</td>\n",
       "      <td>0.0</td>\n",
       "      <td>0.0</td>\n",
       "      <td>0.0</td>\n",
       "      <td>0.0</td>\n",
       "      <td>...</td>\n",
       "      <td>0.0</td>\n",
       "      <td>0.0</td>\n",
       "      <td>0.0</td>\n",
       "      <td>0.0</td>\n",
       "      <td>0.0</td>\n",
       "      <td>0.0</td>\n",
       "      <td>0.0</td>\n",
       "      <td>0.0</td>\n",
       "      <td>0.0</td>\n",
       "      <td>0.0</td>\n",
       "    </tr>\n",
       "    <tr>\n",
       "      <th>15795</th>\n",
       "      <td>0.0</td>\n",
       "      <td>0.0</td>\n",
       "      <td>0.0</td>\n",
       "      <td>0.0</td>\n",
       "      <td>0.0</td>\n",
       "      <td>0.0</td>\n",
       "      <td>0.0</td>\n",
       "      <td>0.0</td>\n",
       "      <td>0.0</td>\n",
       "      <td>0.0</td>\n",
       "      <td>...</td>\n",
       "      <td>0.0</td>\n",
       "      <td>0.0</td>\n",
       "      <td>0.0</td>\n",
       "      <td>0.0</td>\n",
       "      <td>0.0</td>\n",
       "      <td>0.0</td>\n",
       "      <td>0.0</td>\n",
       "      <td>0.0</td>\n",
       "      <td>0.0</td>\n",
       "      <td>0.0</td>\n",
       "    </tr>\n",
       "  </tbody>\n",
       "</table>\n",
       "<p>13400 rows × 59215 columns</p>\n",
       "</div>"
      ],
      "text/plain": [
       "        00  000  00001  001  006  007  00s   01  0148   02  ...  époque  être  \\\n",
       "7070   0.0  0.0    0.0  0.0  0.0  0.0  0.0  0.0   0.0  0.0  ...     0.0   0.0   \n",
       "13010  0.0  0.0    0.0  0.0  0.0  0.0  0.0  0.0   0.0  0.0  ...     0.0   0.0   \n",
       "6688   0.0  0.0    0.0  0.0  0.0  0.0  0.0  0.0   0.0  0.0  ...     0.0   0.0   \n",
       "9976   0.0  0.0    0.0  0.0  0.0  0.0  0.0  0.0   0.0  0.0  ...     0.0   0.0   \n",
       "5175   0.0  0.0    0.0  0.0  0.0  0.0  0.0  0.0   0.0  0.0  ...     0.0   0.0   \n",
       "...    ...  ...    ...  ...  ...  ...  ...  ...   ...  ...  ...     ...   ...   \n",
       "11284  0.0  0.0    0.0  0.0  0.0  0.0  0.0  0.0   0.0  0.0  ...     0.0   0.0   \n",
       "11964  0.0  0.0    0.0  0.0  0.0  0.0  0.0  0.0   0.0  0.0  ...     0.0   0.0   \n",
       "5390   0.0  0.0    0.0  0.0  0.0  0.0  0.0  0.0   0.0  0.0  ...     0.0   0.0   \n",
       "860    0.0  0.0    0.0  0.0  0.0  0.0  0.0  0.0   0.0  0.0  ...     0.0   0.0   \n",
       "15795  0.0  0.0    0.0  0.0  0.0  0.0  0.0  0.0   0.0  0.0  ...     0.0   0.0   \n",
       "\n",
       "       êxtase  ísnt  île  über  übermensch  überwoman  þór  żmijewski  \n",
       "7070      0.0   0.0  0.0   0.0         0.0        0.0  0.0        0.0  \n",
       "13010     0.0   0.0  0.0   0.0         0.0        0.0  0.0        0.0  \n",
       "6688      0.0   0.0  0.0   0.0         0.0        0.0  0.0        0.0  \n",
       "9976      0.0   0.0  0.0   0.0         0.0        0.0  0.0        0.0  \n",
       "5175      0.0   0.0  0.0   0.0         0.0        0.0  0.0        0.0  \n",
       "...       ...   ...  ...   ...         ...        ...  ...        ...  \n",
       "11284     0.0   0.0  0.0   0.0         0.0        0.0  0.0        0.0  \n",
       "11964     0.0   0.0  0.0   0.0         0.0        0.0  0.0        0.0  \n",
       "5390      0.0   0.0  0.0   0.0         0.0        0.0  0.0        0.0  \n",
       "860       0.0   0.0  0.0   0.0         0.0        0.0  0.0        0.0  \n",
       "15795     0.0   0.0  0.0   0.0         0.0        0.0  0.0        0.0  \n",
       "\n",
       "[13400 rows x 59215 columns]"
      ]
     },
     "execution_count": 5,
     "metadata": {},
     "output_type": "execute_result"
    }
   ],
   "source": [
    "from sklearn.feature_extraction.text import TfidfVectorizer\n",
    "\n",
    "tfidf = TfidfVectorizer(stop_words='english')\n",
    "train_x_vector = tfidf.fit_transform(train_x)\n",
    "\n",
    "train_x_vector\n",
    "\n",
    "test_x_vector = tfidf.transform(test_x)\n",
    "\n",
    "pd.DataFrame.sparse.from_spmatrix(train_x_vector,index=train_x.index,columns=tfidf.get_feature_names())"
   ]
  },
  {
   "cell_type": "markdown",
   "id": "7e2b9042",
   "metadata": {
    "papermill": {
     "duration": 0.019694,
     "end_time": "2021-09-21T02:32:13.638045",
     "exception": false,
     "start_time": "2021-09-21T02:32:13.618351",
     "status": "completed"
    },
    "tags": []
   },
   "source": [
    "## Testing the model using four classification models"
   ]
  },
  {
   "cell_type": "code",
   "execution_count": 6,
   "id": "10f674c9",
   "metadata": {
    "execution": {
     "iopub.execute_input": "2021-09-21T02:32:13.684220Z",
     "iopub.status.busy": "2021-09-21T02:32:13.683234Z",
     "iopub.status.idle": "2021-09-21T02:34:21.269782Z",
     "shell.execute_reply": "2021-09-21T02:34:21.270308Z",
     "shell.execute_reply.started": "2021-09-20T08:32:11.566016Z"
    },
    "papermill": {
     "duration": 127.612356,
     "end_time": "2021-09-21T02:34:21.270489",
     "exception": false,
     "start_time": "2021-09-21T02:32:13.658133",
     "status": "completed"
    },
    "tags": []
   },
   "outputs": [
    {
     "data": {
      "text/plain": [
       "SVC(kernel='linear')"
      ]
     },
     "execution_count": 6,
     "metadata": {},
     "output_type": "execute_result"
    }
   ],
   "source": [
    "#Support Vector Machine (SVM)\n",
    "\n",
    "from sklearn.svm import SVC\n",
    "\n",
    "svc = SVC(kernel='linear')\n",
    "svc.fit(train_x_vector, train_y)"
   ]
  },
  {
   "cell_type": "code",
   "execution_count": 7,
   "id": "11a07ff1",
   "metadata": {
    "execution": {
     "iopub.execute_input": "2021-09-21T02:34:21.316034Z",
     "iopub.status.busy": "2021-09-21T02:34:21.315368Z",
     "iopub.status.idle": "2021-09-21T02:34:37.071534Z",
     "shell.execute_reply": "2021-09-21T02:34:37.070887Z",
     "shell.execute_reply.started": "2021-09-20T08:33:50.984179Z"
    },
    "papermill": {
     "duration": 15.781065,
     "end_time": "2021-09-21T02:34:37.071687",
     "exception": false,
     "start_time": "2021-09-21T02:34:21.290622",
     "status": "completed"
    },
    "tags": []
   },
   "outputs": [
    {
     "data": {
      "text/plain": [
       "DecisionTreeClassifier()"
      ]
     },
     "execution_count": 7,
     "metadata": {},
     "output_type": "execute_result"
    }
   ],
   "source": [
    "#Decision Tree\n",
    "\n",
    "from sklearn.tree import DecisionTreeClassifier\n",
    "\n",
    "dec_tree = DecisionTreeClassifier()\n",
    "dec_tree.fit(train_x_vector, train_y)"
   ]
  },
  {
   "cell_type": "code",
   "execution_count": 8,
   "id": "207859eb",
   "metadata": {
    "execution": {
     "iopub.execute_input": "2021-09-21T02:34:37.120553Z",
     "iopub.status.busy": "2021-09-21T02:34:37.119869Z",
     "iopub.status.idle": "2021-09-21T02:34:53.605618Z",
     "shell.execute_reply": "2021-09-21T02:34:53.606131Z",
     "shell.execute_reply.started": "2021-09-20T08:34:02.704460Z"
    },
    "papermill": {
     "duration": 16.512482,
     "end_time": "2021-09-21T02:34:53.606325",
     "exception": false,
     "start_time": "2021-09-21T02:34:37.093843",
     "status": "completed"
    },
    "tags": []
   },
   "outputs": [
    {
     "data": {
      "text/plain": [
       "GaussianNB()"
      ]
     },
     "execution_count": 8,
     "metadata": {},
     "output_type": "execute_result"
    }
   ],
   "source": [
    "#Naive Bayes\n",
    "\n",
    "from sklearn.naive_bayes import GaussianNB\n",
    "\n",
    "gnb = GaussianNB()\n",
    "gnb.fit(train_x_vector.toarray(), train_y)"
   ]
  },
  {
   "cell_type": "code",
   "execution_count": 9,
   "id": "a7b37a6b",
   "metadata": {
    "execution": {
     "iopub.execute_input": "2021-09-21T02:34:53.654822Z",
     "iopub.status.busy": "2021-09-21T02:34:53.654162Z",
     "iopub.status.idle": "2021-09-21T02:34:55.413448Z",
     "shell.execute_reply": "2021-09-21T02:34:55.414406Z",
     "shell.execute_reply.started": "2021-09-20T08:34:17.185652Z"
    },
    "papermill": {
     "duration": 1.786269,
     "end_time": "2021-09-21T02:34:55.414614",
     "exception": false,
     "start_time": "2021-09-21T02:34:53.628345",
     "status": "completed"
    },
    "tags": []
   },
   "outputs": [
    {
     "data": {
      "text/plain": [
       "LogisticRegression()"
      ]
     },
     "execution_count": 9,
     "metadata": {},
     "output_type": "execute_result"
    }
   ],
   "source": [
    "#Logistic Regression\n",
    "\n",
    "from sklearn.linear_model import LogisticRegression\n",
    "\n",
    "log_reg = LogisticRegression()\n",
    "log_reg.fit(train_x_vector, train_y)"
   ]
  },
  {
   "cell_type": "markdown",
   "id": "47406f6a",
   "metadata": {
    "papermill": {
     "duration": 0.037359,
     "end_time": "2021-09-21T02:34:55.480987",
     "exception": false,
     "start_time": "2021-09-21T02:34:55.443628",
     "status": "completed"
    },
    "tags": []
   },
   "source": [
    "## Models evaluation"
   ]
  },
  {
   "cell_type": "code",
   "execution_count": 10,
   "id": "a637cd67",
   "metadata": {
    "execution": {
     "iopub.execute_input": "2021-09-21T02:34:55.544760Z",
     "iopub.status.busy": "2021-09-21T02:34:55.543841Z",
     "iopub.status.idle": "2021-09-21T02:35:45.095353Z",
     "shell.execute_reply": "2021-09-21T02:35:45.095840Z",
     "shell.execute_reply.started": "2021-09-20T08:34:18.086360Z"
    },
    "papermill": {
     "duration": 49.578817,
     "end_time": "2021-09-21T02:35:45.096042",
     "exception": false,
     "start_time": "2021-09-21T02:34:55.517225",
     "status": "completed"
    },
    "tags": []
   },
   "outputs": [
    {
     "name": "stdout",
     "output_type": "stream",
     "text": [
      "Support vector machine: 0.8721212121212121\n",
      "Decision tree: 0.7068181818181818\n",
      "Naive bayes: 0.6383333333333333\n",
      "Logistic regression: 0.8736363636363637\n"
     ]
    }
   ],
   "source": [
    "#Mean accuracy\n",
    "\n",
    "print('Support vector machine:', svc.score(test_x_vector, test_y))\n",
    "print('Decision tree:', dec_tree.score(test_x_vector, test_y))\n",
    "print('Naive bayes:', gnb.score(test_x_vector.toarray(), test_y))\n",
    "print('Logistic regression:', log_reg.score(test_x_vector, test_y))"
   ]
  },
  {
   "cell_type": "code",
   "execution_count": 11,
   "id": "763a4ac1",
   "metadata": {
    "execution": {
     "iopub.execute_input": "2021-09-21T02:35:45.146024Z",
     "iopub.status.busy": "2021-09-21T02:35:45.144974Z",
     "iopub.status.idle": "2021-09-21T02:36:26.242010Z",
     "shell.execute_reply": "2021-09-21T02:36:26.242553Z",
     "shell.execute_reply.started": "2021-09-20T08:34:59.395827Z"
    },
    "papermill": {
     "duration": 41.124605,
     "end_time": "2021-09-21T02:36:26.242732",
     "exception": false,
     "start_time": "2021-09-21T02:35:45.118127",
     "status": "completed"
    },
    "tags": []
   },
   "outputs": [
    {
     "data": {
      "text/plain": [
       "array([0.87289157, 0.87134146])"
      ]
     },
     "execution_count": 11,
     "metadata": {},
     "output_type": "execute_result"
    }
   ],
   "source": [
    "#F1 score (using the SVC model)\n",
    "\n",
    "from sklearn.metrics import f1_score\n",
    "\n",
    "f1_score(test_y, svc.predict(test_x_vector), labels=['positive', 'negative'], average=None)"
   ]
  },
  {
   "cell_type": "code",
   "execution_count": 12,
   "id": "63c0acc0",
   "metadata": {
    "execution": {
     "iopub.execute_input": "2021-09-21T02:36:26.290108Z",
     "iopub.status.busy": "2021-09-21T02:36:26.289434Z",
     "iopub.status.idle": "2021-09-21T02:37:08.256059Z",
     "shell.execute_reply": "2021-09-21T02:37:08.256579Z",
     "shell.execute_reply.started": "2021-09-20T08:35:33.273983Z"
    },
    "papermill": {
     "duration": 41.991993,
     "end_time": "2021-09-21T02:37:08.256763",
     "exception": false,
     "start_time": "2021-09-21T02:36:26.264770",
     "status": "completed"
    },
    "tags": []
   },
   "outputs": [
    {
     "name": "stdout",
     "output_type": "stream",
     "text": [
      "              precision    recall  f1-score   support\n",
      "\n",
      "    positive       0.86      0.89      0.87      3271\n",
      "    negative       0.88      0.86      0.87      3329\n",
      "\n",
      "    accuracy                           0.87      6600\n",
      "   macro avg       0.87      0.87      0.87      6600\n",
      "weighted avg       0.87      0.87      0.87      6600\n",
      "\n"
     ]
    }
   ],
   "source": [
    "#Classification report\n",
    "\n",
    "from sklearn.metrics import classification_report\n",
    "\n",
    "print(classification_report(test_y,svc.predict(test_x_vector), labels=['positive', 'negative']))"
   ]
  },
  {
   "cell_type": "code",
   "execution_count": 13,
   "id": "0a81d28c",
   "metadata": {
    "execution": {
     "iopub.execute_input": "2021-09-21T02:37:08.307265Z",
     "iopub.status.busy": "2021-09-21T02:37:08.306562Z",
     "iopub.status.idle": "2021-09-21T02:37:49.931026Z",
     "shell.execute_reply": "2021-09-21T02:37:49.931555Z",
     "shell.execute_reply.started": "2021-09-20T08:36:07.405653Z"
    },
    "papermill": {
     "duration": 41.652291,
     "end_time": "2021-09-21T02:37:49.931735",
     "exception": false,
     "start_time": "2021-09-21T02:37:08.279444",
     "status": "completed"
    },
    "tags": []
   },
   "outputs": [
    {
     "data": {
      "text/plain": [
       "array([[2898,  373],\n",
       "       [ 471, 2858]])"
      ]
     },
     "execution_count": 13,
     "metadata": {},
     "output_type": "execute_result"
    }
   ],
   "source": [
    "#Report the number of true positives, true negatives, false positives, and false negatives\n",
    "\n",
    "from sklearn.metrics import confusion_matrix\n",
    "\n",
    "conf_mat = confusion_matrix(test_y, svc.predict(test_x_vector), labels=['positive', 'negative'])\n",
    "\n",
    "conf_mat"
   ]
  },
  {
   "cell_type": "markdown",
   "id": "4b25050b",
   "metadata": {
    "papermill": {
     "duration": 0.023165,
     "end_time": "2021-09-21T02:37:49.978295",
     "exception": false,
     "start_time": "2021-09-21T02:37:49.955130",
     "status": "completed"
    },
    "tags": []
   },
   "source": [
    "## Test model with a new review"
   ]
  },
  {
   "cell_type": "code",
   "execution_count": 14,
   "id": "9a2ab9c1",
   "metadata": {
    "execution": {
     "iopub.execute_input": "2021-09-21T02:37:50.032085Z",
     "iopub.status.busy": "2021-09-21T02:37:50.031378Z",
     "iopub.status.idle": "2021-09-21T02:37:50.045615Z",
     "shell.execute_reply": "2021-09-21T02:37:50.044947Z",
     "shell.execute_reply.started": "2021-09-20T08:36:41.399770Z"
    },
    "papermill": {
     "duration": 0.043279,
     "end_time": "2021-09-21T02:37:50.045765",
     "exception": false,
     "start_time": "2021-09-21T02:37:50.002486",
     "status": "completed"
    },
    "tags": []
   },
   "outputs": [
    {
     "data": {
      "text/plain": [
       "array(['positive'], dtype=object)"
      ]
     },
     "execution_count": 14,
     "metadata": {},
     "output_type": "execute_result"
    }
   ],
   "source": [
    "review = [\"Probably my all-time favorite movie, a story of selflessness, sacrifice and dedication to a noble cause\"]\n",
    "new_review = tfidf.transform(review)\n",
    "\n",
    "svc.predict(new_review)"
   ]
  },
  {
   "cell_type": "markdown",
   "id": "2dff6808",
   "metadata": {
    "papermill": {
     "duration": 0.023113,
     "end_time": "2021-09-21T02:37:50.092396",
     "exception": false,
     "start_time": "2021-09-21T02:37:50.069283",
     "status": "completed"
    },
    "tags": []
   },
   "source": [
    "## Model optimization using GridSearchCV"
   ]
  },
  {
   "cell_type": "code",
   "execution_count": 15,
   "id": "d4fe263d",
   "metadata": {
    "execution": {
     "iopub.execute_input": "2021-09-21T02:37:50.143267Z",
     "iopub.status.busy": "2021-09-21T02:37:50.142276Z",
     "iopub.status.idle": "2021-09-21T05:38:15.630544Z",
     "shell.execute_reply": "2021-09-21T05:38:15.631392Z",
     "shell.execute_reply.started": "2021-09-20T08:36:41.414375Z"
    },
    "papermill": {
     "duration": 10825.515814,
     "end_time": "2021-09-21T05:38:15.631683",
     "exception": false,
     "start_time": "2021-09-21T02:37:50.115869",
     "status": "completed"
    },
    "tags": []
   },
   "outputs": [
    {
     "name": "stdout",
     "output_type": "stream",
     "text": [
      "{'C': 8, 'kernel': 'rbf'}\n",
      "SVC(C=8)\n"
     ]
    }
   ],
   "source": [
    "from sklearn.model_selection import GridSearchCV\n",
    "\n",
    "#set the parameters\n",
    "parameters = {'C': [1,4,8,16,32] ,'kernel':['linear', 'rbf']}\n",
    "svc = SVC()\n",
    "svc_grid = GridSearchCV(svc,parameters, cv=5)\n",
    "\n",
    "svc_grid.fit(train_x_vector, train_y)\n",
    "\n",
    "print(svc_grid.best_params_)\n",
    "print(svc_grid.best_estimator_)"
   ]
  },
  {
   "cell_type": "markdown",
   "id": "2a85671c",
   "metadata": {
    "papermill": {
     "duration": 0.023481,
     "end_time": "2021-09-21T05:38:15.679893",
     "exception": false,
     "start_time": "2021-09-21T05:38:15.656412",
     "status": "completed"
    },
    "tags": []
   },
   "source": [
    "## Save model with Pickle, load model, and test"
   ]
  },
  {
   "cell_type": "code",
   "execution_count": 16,
   "id": "ee3f2cc9",
   "metadata": {
    "execution": {
     "iopub.execute_input": "2021-09-21T05:38:15.734139Z",
     "iopub.status.busy": "2021-09-21T05:38:15.733432Z",
     "iopub.status.idle": "2021-09-21T05:38:15.766790Z",
     "shell.execute_reply": "2021-09-21T05:38:15.767708Z",
     "shell.execute_reply.started": "2021-09-20T11:07:59.460787Z"
    },
    "papermill": {
     "duration": 0.06455,
     "end_time": "2021-09-21T05:38:15.767951",
     "exception": false,
     "start_time": "2021-09-21T05:38:15.703401",
     "status": "completed"
    },
    "tags": []
   },
   "outputs": [
    {
     "name": "stdout",
     "output_type": "stream",
     "text": [
      "['negative']\n"
     ]
    }
   ],
   "source": [
    "import pickle\n",
    "\n",
    "filename = 'movie_reviews_sentiment_analysis.pkl'\n",
    "\n",
    "pickle.dump(svc_grid, open(filename, 'wb'))\n",
    "\n",
    "#Load and test saved model\n",
    "loaded_model = pickle.load(open(filename, 'rb'))\n",
    "\n",
    "review = [\"This is pretty much the worse movie I have ever watched. It's completely thrash!\"]\n",
    "new_review = tfidf.transform(review)\n",
    "\n",
    "result = loaded_model.predict(new_review)\n",
    "print(result)"
   ]
  }
 ],
 "metadata": {
  "kernelspec": {
   "display_name": "Python 3",
   "language": "python",
   "name": "python3"
  },
  "language_info": {
   "codemirror_mode": {
    "name": "ipython",
    "version": 3
   },
   "file_extension": ".py",
   "mimetype": "text/x-python",
   "name": "python",
   "nbconvert_exporter": "python",
   "pygments_lexer": "ipython3",
   "version": "3.7.10"
  },
  "papermill": {
   "default_parameters": {},
   "duration": 11183.503655,
   "end_time": "2021-09-21T05:38:17.512919",
   "environment_variables": {},
   "exception": null,
   "input_path": "__notebook__.ipynb",
   "output_path": "__notebook__.ipynb",
   "parameters": {},
   "start_time": "2021-09-21T02:31:54.009264",
   "version": "2.3.3"
  }
 },
 "nbformat": 4,
 "nbformat_minor": 5
}
