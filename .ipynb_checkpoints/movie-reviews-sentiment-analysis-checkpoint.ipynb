{
 "cells": [
  {
   "cell_type": "markdown",
   "metadata": {},
   "source": [
    "## Import and prepare the dataset"
   ]
  },
  {
   "cell_type": "code",
   "execution_count": 3,
   "metadata": {
    "execution": {
     "iopub.execute_input": "2021-09-19T03:25:56.683597Z",
     "iopub.status.busy": "2021-09-19T03:25:56.683001Z",
     "iopub.status.idle": "2021-09-19T03:25:58.296926Z",
     "shell.execute_reply": "2021-09-19T03:25:58.296021Z",
     "shell.execute_reply.started": "2021-09-19T03:25:56.683504Z"
    }
   },
   "outputs": [
    {
     "data": {
      "text/html": [
       "<div>\n",
       "<style scoped>\n",
       "    .dataframe tbody tr th:only-of-type {\n",
       "        vertical-align: middle;\n",
       "    }\n",
       "\n",
       "    .dataframe tbody tr th {\n",
       "        vertical-align: top;\n",
       "    }\n",
       "\n",
       "    .dataframe thead th {\n",
       "        text-align: right;\n",
       "    }\n",
       "</style>\n",
       "<table border=\"1\" class=\"dataframe\">\n",
       "  <thead>\n",
       "    <tr style=\"text-align: right;\">\n",
       "      <th></th>\n",
       "      <th>review</th>\n",
       "      <th>sentiment</th>\n",
       "    </tr>\n",
       "  </thead>\n",
       "  <tbody>\n",
       "    <tr>\n",
       "      <th>0</th>\n",
       "      <td>One of the other reviewers has mentioned that ...</td>\n",
       "      <td>positive</td>\n",
       "    </tr>\n",
       "    <tr>\n",
       "      <th>1</th>\n",
       "      <td>A wonderful little production. &lt;br /&gt;&lt;br /&gt;The...</td>\n",
       "      <td>positive</td>\n",
       "    </tr>\n",
       "    <tr>\n",
       "      <th>2</th>\n",
       "      <td>I thought this was a wonderful way to spend ti...</td>\n",
       "      <td>positive</td>\n",
       "    </tr>\n",
       "    <tr>\n",
       "      <th>3</th>\n",
       "      <td>Basically there's a family where a little boy ...</td>\n",
       "      <td>negative</td>\n",
       "    </tr>\n",
       "    <tr>\n",
       "      <th>4</th>\n",
       "      <td>Petter Mattei's \"Love in the Time of Money\" is...</td>\n",
       "      <td>positive</td>\n",
       "    </tr>\n",
       "    <tr>\n",
       "      <th>...</th>\n",
       "      <td>...</td>\n",
       "      <td>...</td>\n",
       "    </tr>\n",
       "    <tr>\n",
       "      <th>49995</th>\n",
       "      <td>I thought this movie did a down right good job...</td>\n",
       "      <td>positive</td>\n",
       "    </tr>\n",
       "    <tr>\n",
       "      <th>49996</th>\n",
       "      <td>Bad plot, bad dialogue, bad acting, idiotic di...</td>\n",
       "      <td>negative</td>\n",
       "    </tr>\n",
       "    <tr>\n",
       "      <th>49997</th>\n",
       "      <td>I am a Catholic taught in parochial elementary...</td>\n",
       "      <td>negative</td>\n",
       "    </tr>\n",
       "    <tr>\n",
       "      <th>49998</th>\n",
       "      <td>I'm going to have to disagree with the previou...</td>\n",
       "      <td>negative</td>\n",
       "    </tr>\n",
       "    <tr>\n",
       "      <th>49999</th>\n",
       "      <td>No one expects the Star Trek movies to be high...</td>\n",
       "      <td>negative</td>\n",
       "    </tr>\n",
       "  </tbody>\n",
       "</table>\n",
       "<p>50000 rows × 2 columns</p>\n",
       "</div>"
      ],
      "text/plain": [
       "                                                  review sentiment\n",
       "0      One of the other reviewers has mentioned that ...  positive\n",
       "1      A wonderful little production. <br /><br />The...  positive\n",
       "2      I thought this was a wonderful way to spend ti...  positive\n",
       "3      Basically there's a family where a little boy ...  negative\n",
       "4      Petter Mattei's \"Love in the Time of Money\" is...  positive\n",
       "...                                                  ...       ...\n",
       "49995  I thought this movie did a down right good job...  positive\n",
       "49996  Bad plot, bad dialogue, bad acting, idiotic di...  negative\n",
       "49997  I am a Catholic taught in parochial elementary...  negative\n",
       "49998  I'm going to have to disagree with the previou...  negative\n",
       "49999  No one expects the Star Trek movies to be high...  negative\n",
       "\n",
       "[50000 rows x 2 columns]"
      ]
     },
     "execution_count": 3,
     "metadata": {},
     "output_type": "execute_result"
    }
   ],
   "source": [
    "import pandas as pd\n",
    "\n",
    "df_review = pd.read_csv('./data/IMDB-dataset.csv')\n",
    "\n",
    "df_review"
   ]
  },
  {
   "cell_type": "code",
   "execution_count": 4,
   "metadata": {
    "execution": {
     "iopub.execute_input": "2021-09-19T03:25:58.298546Z",
     "iopub.status.busy": "2021-09-19T03:25:58.298267Z",
     "iopub.status.idle": "2021-09-19T03:25:59.452835Z",
     "shell.execute_reply": "2021-09-19T03:25:59.451623Z",
     "shell.execute_reply.started": "2021-09-19T03:25:58.298520Z"
    }
   },
   "outputs": [
    {
     "data": {
      "image/png": "[encoded data removed]",
      "text/plain": [
       "<Figure size 720x576 with 1 Axes>"
      ]
     },
     "metadata": {},
     "output_type": "display_data"
    }
   ],
   "source": [
    "df_positive = df_review[df_review['sentiment']=='positive'][:40000]\n",
    "df_negative = df_review[df_review['sentiment']=='negative'][:10000]\n",
    "\n",
    "df_review_imb = pd.concat([df_positive, df_negative])\n",
    "\n",
    "import matplotlib.pyplot as plt\n",
    "import seaborn as sns\n",
    "\n",
    "sns.set_style('darkgrid')\n",
    "plt.rc('axes', titlesize=20)\n",
    "plt.rc('axes', labelsize=16)\n",
    "plt.rc('xtick', labelsize=14)\n",
    "plt.rc('ytick', labelsize=14)\n",
    "plt.rc('legend', fontsize=14)\n",
    "plt.rc('font', size=14)\n",
    "\n",
    "colors = sns.color_palette('deep')\n",
    "\n",
    "plt.figure(figsize=(10,8), tight_layout=True)\n",
    "plt.bar(x=['Positive', 'Negative'], height=df_review_imb.value_counts(['sentiment']), color=colors[:2])\n",
    "plt.title('Sentiment')\n",
    "plt.savefig('sentiment.png')\n",
    "\n",
    "plt.show()"
   ]
  },
  {
   "cell_type": "code",
   "execution_count": 6,
   "metadata": {
    "execution": {
     "iopub.execute_input": "2021-09-19T03:25:59.454878Z",
     "iopub.status.busy": "2021-09-19T03:25:59.454531Z",
     "iopub.status.idle": "2021-09-19T03:26:00.079291Z",
     "shell.execute_reply": "2021-09-19T03:26:00.077721Z",
     "shell.execute_reply.started": "2021-09-19T03:25:59.454840Z"
    }
   },
   "outputs": [
    {
     "ename": "ModuleNotFoundError",
     "evalue": "No module named 'imblearn'",
     "output_type": "error",
     "traceback": [
      "\u001b[0;31m---------------------------------------------------------------------------\u001b[0m",
      "\u001b[0;31mModuleNotFoundError\u001b[0m                       Traceback (most recent call last)",
      "\u001b[0;32m<ipython-input-6-94083b1b17df>\u001b[0m in \u001b[0;36m<module>\u001b[0;34m\u001b[0m\n\u001b[1;32m      1\u001b[0m \u001b[0;31m#Balancing the data set\u001b[0m\u001b[0;34m\u001b[0m\u001b[0;34m\u001b[0m\u001b[0;34m\u001b[0m\u001b[0m\n\u001b[1;32m      2\u001b[0m \u001b[0;34m\u001b[0m\u001b[0m\n\u001b[0;32m----> 3\u001b[0;31m \u001b[0;32mfrom\u001b[0m \u001b[0mimblearn\u001b[0m\u001b[0;34m.\u001b[0m\u001b[0munder_sampling\u001b[0m \u001b[0;32mimport\u001b[0m \u001b[0mRandomUnderSampler\u001b[0m\u001b[0;34m\u001b[0m\u001b[0;34m\u001b[0m\u001b[0m\n\u001b[0m\u001b[1;32m      4\u001b[0m \u001b[0;34m\u001b[0m\u001b[0m\n\u001b[1;32m      5\u001b[0m \u001b[0mrus\u001b[0m \u001b[0;34m=\u001b[0m \u001b[0mRandomUnderSampler\u001b[0m\u001b[0;34m(\u001b[0m\u001b[0mrandom_state\u001b[0m\u001b[0;34m=\u001b[0m\u001b[0;36m0\u001b[0m\u001b[0;34m)\u001b[0m\u001b[0;34m\u001b[0m\u001b[0;34m\u001b[0m\u001b[0m\n",
      "\u001b[0;31mModuleNotFoundError\u001b[0m: No module named 'imblearn'"
     ]
    }
   ],
   "source": [
    "#Balancing the data set\n",
    "\n",
    "from imblearn.under_sampling import RandomUnderSampler\n",
    "\n",
    "rus = RandomUnderSampler(random_state=0)\n",
    "df_review_bal, df_review_bal['sentiment']=rus.fit_resample(df_review_imb[['review']], df_review_imb['sentiment'])\n",
    "\n",
    "df_review_bal\n",
    "\n",
    "print(df_review_imb.value_counts('sentiment'))\n",
    "print('---------------')\n",
    "print(df_review_bal.value_counts('sentiment'))"
   ]
  },
  {
   "cell_type": "code",
   "execution_count": null,
   "metadata": {
    "execution": {
     "iopub.execute_input": "2021-09-19T03:26:00.082178Z",
     "iopub.status.busy": "2021-09-19T03:26:00.081739Z",
     "iopub.status.idle": "2021-09-19T03:26:00.095380Z",
     "shell.execute_reply": "2021-09-19T03:26:00.094366Z",
     "shell.execute_reply.started": "2021-09-19T03:26:00.082131Z"
    }
   },
   "outputs": [],
   "source": [
    "#Splitting the dataset into train and test data sets\n",
    "\n",
    "from sklearn.model_selection import train_test_split\n",
    "\n",
    "train, test = train_test_split(df_review_bal, test_size=0.33, random_state=42)\n",
    "\n",
    "train_x, train_y = train['review'], train['sentiment']\n",
    "test_x, test_y = test['review'], test['sentiment']\n",
    "\n",
    "print(test_y)"
   ]
  },
  {
   "cell_type": "markdown",
   "metadata": {},
   "source": []
  },
  {
   "cell_type": "markdown",
   "metadata": {},
   "source": [
    "## Text representation to numerical vectors using bag of words"
   ]
  },
  {
   "cell_type": "code",
   "execution_count": null,
   "metadata": {
    "execution": {
     "iopub.execute_input": "2021-09-19T03:26:00.096848Z",
     "iopub.status.busy": "2021-09-19T03:26:00.096527Z",
     "iopub.status.idle": "2021-09-19T03:26:07.222763Z",
     "shell.execute_reply": "2021-09-19T03:26:07.221622Z",
     "shell.execute_reply.started": "2021-09-19T03:26:00.096812Z"
    }
   },
   "outputs": [],
   "source": [
    "from sklearn.feature_extraction.text import TfidfVectorizer\n",
    "\n",
    "tfidf = TfidfVectorizer(stop_words='english')\n",
    "train_x_vector = tfidf.fit_transform(train_x)\n",
    "\n",
    "train_x_vector\n",
    "\n",
    "test_x_vector = tfidf.transform(test_x)\n",
    "\n",
    "pd.DataFrame.sparse.from_spmatrix(train_x_vector,index=train_x.index,columns=tfidf.get_feature_names())"
   ]
  },
  {
   "cell_type": "markdown",
   "metadata": {},
   "source": [
    "## Testing the model using four classification models"
   ]
  },
  {
   "cell_type": "code",
   "execution_count": null,
   "metadata": {
    "execution": {
     "iopub.execute_input": "2021-09-19T03:26:07.224684Z",
     "iopub.status.busy": "2021-09-19T03:26:07.224262Z",
     "iopub.status.idle": "2021-09-19T03:28:12.778500Z",
     "shell.execute_reply": "2021-09-19T03:28:12.777597Z",
     "shell.execute_reply.started": "2021-09-19T03:26:07.224612Z"
    }
   },
   "outputs": [],
   "source": [
    "#Support Vector Machine (SVM)\n",
    "\n",
    "from sklearn.svm import SVC\n",
    "\n",
    "svc = SVC(kernel='linear')\n",
    "svc.fit(train_x_vector, train_y)"
   ]
  },
  {
   "cell_type": "code",
   "execution_count": null,
   "metadata": {
    "execution": {
     "iopub.execute_input": "2021-09-19T03:28:12.780040Z",
     "iopub.status.busy": "2021-09-19T03:28:12.779748Z",
     "iopub.status.idle": "2021-09-19T03:28:27.919277Z",
     "shell.execute_reply": "2021-09-19T03:28:27.917976Z",
     "shell.execute_reply.started": "2021-09-19T03:28:12.780012Z"
    }
   },
   "outputs": [],
   "source": [
    "#Decision Tree\n",
    "\n",
    "from sklearn.tree import DecisionTreeClassifier\n",
    "\n",
    "dec_tree = DecisionTreeClassifier()\n",
    "dec_tree.fit(train_x_vector, train_y)"
   ]
  },
  {
   "cell_type": "code",
   "execution_count": null,
   "metadata": {
    "execution": {
     "iopub.execute_input": "2021-09-19T03:28:27.922949Z",
     "iopub.status.busy": "2021-09-19T03:28:27.922451Z",
     "iopub.status.idle": "2021-09-19T03:28:48.369227Z",
     "shell.execute_reply": "2021-09-19T03:28:48.368184Z",
     "shell.execute_reply.started": "2021-09-19T03:28:27.922892Z"
    }
   },
   "outputs": [],
   "source": [
    "#Naive Bayes\n",
    "\n",
    "from sklearn.naive_bayes import GaussianNB\n",
    "\n",
    "gnb = GaussianNB()\n",
    "gnb.fit(train_x_vector.toarray(), train_y)"
   ]
  },
  {
   "cell_type": "code",
   "execution_count": null,
   "metadata": {
    "execution": {
     "iopub.execute_input": "2021-09-19T03:28:48.372256Z",
     "iopub.status.busy": "2021-09-19T03:28:48.371683Z",
     "iopub.status.idle": "2021-09-19T03:28:50.670684Z",
     "shell.execute_reply": "2021-09-19T03:28:50.669363Z",
     "shell.execute_reply.started": "2021-09-19T03:28:48.372215Z"
    }
   },
   "outputs": [],
   "source": [
    "#Logistic Regression\n",
    "\n",
    "from sklearn.linear_model import LogisticRegression\n",
    "\n",
    "log_reg = LogisticRegression()\n",
    "log_reg.fit(train_x_vector, train_y)"
   ]
  },
  {
   "cell_type": "markdown",
   "metadata": {},
   "source": [
    "## Models evaluation"
   ]
  },
  {
   "cell_type": "code",
   "execution_count": null,
   "metadata": {
    "execution": {
     "iopub.execute_input": "2021-09-19T03:28:50.676876Z",
     "iopub.status.busy": "2021-09-19T03:28:50.676367Z",
     "iopub.status.idle": "2021-09-19T03:29:41.435052Z",
     "shell.execute_reply": "2021-09-19T03:29:41.433904Z",
     "shell.execute_reply.started": "2021-09-19T03:28:50.676831Z"
    }
   },
   "outputs": [],
   "source": [
    "#Mean accuracy\n",
    "\n",
    "print('Support vector machine:', svc.score(test_x_vector, test_y))\n",
    "print('Decision tree:', dec_tree.score(test_x_vector, test_y))\n",
    "print('Naive bayes:', gnb.score(test_x_vector.toarray(), test_y))\n",
    "print('Logistic regression:', log_reg.score(test_x_vector, test_y))"
   ]
  },
  {
   "cell_type": "code",
   "execution_count": null,
   "metadata": {
    "execution": {
     "iopub.execute_input": "2021-09-19T03:29:41.437064Z",
     "iopub.status.busy": "2021-09-19T03:29:41.436630Z",
     "iopub.status.idle": "2021-09-19T03:30:22.654953Z",
     "shell.execute_reply": "2021-09-19T03:30:22.653885Z",
     "shell.execute_reply.started": "2021-09-19T03:29:41.437021Z"
    }
   },
   "outputs": [],
   "source": [
    "#F1 score (using the SVC model)\n",
    "\n",
    "from sklearn.metrics import f1_score\n",
    "\n",
    "f1_score(test_y, svc.predict(test_x_vector), labels=['positive', 'negative'], average=None)"
   ]
  },
  {
   "cell_type": "code",
   "execution_count": null,
   "metadata": {
    "execution": {
     "iopub.execute_input": "2021-09-19T03:30:22.657039Z",
     "iopub.status.busy": "2021-09-19T03:30:22.656574Z",
     "iopub.status.idle": "2021-09-19T03:31:04.592400Z",
     "shell.execute_reply": "2021-09-19T03:31:04.591457Z",
     "shell.execute_reply.started": "2021-09-19T03:30:22.656991Z"
    }
   },
   "outputs": [],
   "source": [
    "#Classification report\n",
    "\n",
    "from sklearn.metrics import classification_report\n",
    "\n",
    "print(classification_report(test_y,svc.predict(test_x_vector), labels=['positive', 'negative']))"
   ]
  },
  {
   "cell_type": "code",
   "execution_count": null,
   "metadata": {
    "execution": {
     "iopub.execute_input": "2021-09-19T03:31:04.594226Z",
     "iopub.status.busy": "2021-09-19T03:31:04.593824Z",
     "iopub.status.idle": "2021-09-19T03:31:45.916845Z",
     "shell.execute_reply": "2021-09-19T03:31:45.915594Z",
     "shell.execute_reply.started": "2021-09-19T03:31:04.594183Z"
    }
   },
   "outputs": [],
   "source": [
    "#Report the number of true positives, true negatives, false positives, and false negatives\n",
    "\n",
    "from sklearn.metrics import confusion_matrix\n",
    "\n",
    "conf_mat = confusion_matrix(test_y, svc.predict(test_x_vector), labels=['positive', 'negative'])\n",
    "\n",
    "conf_mat"
   ]
  },
  {
   "cell_type": "markdown",
   "metadata": {},
   "source": [
    "## Test model with a new review"
   ]
  },
  {
   "cell_type": "code",
   "execution_count": null,
   "metadata": {
    "execution": {
     "iopub.execute_input": "2021-09-19T03:31:45.919170Z",
     "iopub.status.busy": "2021-09-19T03:31:45.918723Z",
     "iopub.status.idle": "2021-09-19T03:31:45.938064Z",
     "shell.execute_reply": "2021-09-19T03:31:45.937206Z",
     "shell.execute_reply.started": "2021-09-19T03:31:45.919119Z"
    }
   },
   "outputs": [],
   "source": [
    "review = [\"Probably my all-time favorite movie, a story of selflessness, sacrifice and dedication to a noble cause\"]\n",
    "new_review = tfidf.transform(review)\n",
    "\n",
    "svc.predict(new_review)"
   ]
  },
  {
   "cell_type": "markdown",
   "metadata": {},
   "source": [
    "## Model optimization using GridSearchCV"
   ]
  },
  {
   "cell_type": "code",
   "execution_count": null,
   "metadata": {},
   "outputs": [],
   "source": [
    "from sklearn.model_selection import GridSearchCV\n",
    "\n",
    "#set the parameters\n",
    "parameters = {'C': [1,4,8,16,32] ,'kernel':['linear', 'rbf']}\n",
    "svc = SVC()\n",
    "svc_grid = GridSearchCV(svc,parameters, cv=5)\n",
    "\n",
    "svc_grid.fit(train_x_vector, train_y)\n",
    "\n",
    "print(svc_grid.best_params_)\n",
    "print(svc_grid.best_estimator_)"
   ]
  },
  {
   "cell_type": "markdown",
   "metadata": {},
   "source": [
    "## Save model in HDF5 format, load model, and test"
   ]
  },
  {
   "cell_type": "code",
   "execution_count": null,
   "metadata": {},
   "outputs": [],
   "source": [
    "import h5py\n",
    "from tensorflow.keras.models import load_model\n",
    "\n",
    "model.save('movie_reviews_sentiment_analysis', save_format='h5')\n",
    "del model\n",
    "\n",
    "loaded_model = load_model('./movie_reviews_sentiment_analysis.h5')\n",
    "\n",
    "review = [\"This is pretty much the worse movie I have ever watched. It's completely thrash!\"]\n",
    "new_review = tfidf.transform(review)\n",
    "\n",
    "result = loaded_model.predict(new_review)\n",
    "print(result)"
   ]
  },
  {
   "cell_type": "markdown",
   "metadata": {},
   "source": [
    "## Convert H5 into JSON and binary format"
   ]
  },
  {
   "cell_type": "markdown",
   "metadata": {},
   "source": []
  },
  {
   "cell_type": "code",
   "execution_count": null,
   "metadata": {},
   "outputs": [],
   "source": [
    "model.to_json()"
   ]
  }
 ],
 "metadata": {
  "kernelspec": {
   "display_name": "Python 3",
   "language": "python",
   "name": "python3"
  },
  "language_info": {
   "codemirror_mode": {
    "name": "ipython",
    "version": 3
   },
   "file_extension": ".py",
   "mimetype": "text/x-python",
   "name": "python",
   "nbconvert_exporter": "python",
   "pygments_lexer": "ipython3",
   "version": "3.8.5"
  }
 },
 "nbformat": 4,
 "nbformat_minor": 4
}
